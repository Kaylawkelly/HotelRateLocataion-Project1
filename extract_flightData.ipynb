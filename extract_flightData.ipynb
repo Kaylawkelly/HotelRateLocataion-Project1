{
 "cells": [
  {
   "cell_type": "code",
   "execution_count": 19,
   "metadata": {},
   "outputs": [],
   "source": [
    "# Dependencies\n",
    "import pandas as pd\n",
    "import numpy as np\n",
    "import json\n",
    "import requests\n",
    "from config import x_rapidapi_key\n",
    "from config import x_access_token\n",
    "from pprint import pprint"
   ]
  },
  {
   "cell_type": "code",
   "execution_count": 2,
   "metadata": {},
   "outputs": [
    {
     "data": {
      "text/plain": [
       "'e5ee88badfmsh65ec7588e95e6fcp181b1cjsn38212393a000'"
      ]
     },
     "execution_count": 2,
     "metadata": {},
     "output_type": "execute_result"
    }
   ],
   "source": [
    "x_rapidapi_key"
   ]
  },
  {
   "cell_type": "code",
   "execution_count": 40,
   "metadata": {},
   "outputs": [
    {
     "data": {
      "text/html": [
       "<div>\n",
       "<style scoped>\n",
       "    .dataframe tbody tr th:only-of-type {\n",
       "        vertical-align: middle;\n",
       "    }\n",
       "\n",
       "    .dataframe tbody tr th {\n",
       "        vertical-align: top;\n",
       "    }\n",
       "\n",
       "    .dataframe thead th {\n",
       "        text-align: right;\n",
       "    }\n",
       "</style>\n",
       "<table border=\"1\" class=\"dataframe\">\n",
       "  <thead>\n",
       "    <tr style=\"text-align: right;\">\n",
       "      <th></th>\n",
       "      <th>Unnamed: 0</th>\n",
       "      <th>City</th>\n",
       "      <th>State</th>\n",
       "      <th>Lat</th>\n",
       "      <th>Lng</th>\n",
       "      <th>Airport Name</th>\n",
       "      <th>Airport Address</th>\n",
       "      <th>Airport Rating</th>\n",
       "      <th>Airport Code</th>\n",
       "    </tr>\n",
       "  </thead>\n",
       "  <tbody>\n",
       "    <tr>\n",
       "      <th>0</th>\n",
       "      <td>0</td>\n",
       "      <td>New York City</td>\n",
       "      <td>New York</td>\n",
       "      <td>40.712775</td>\n",
       "      <td>-74.005973</td>\n",
       "      <td>Newark Liberty International Airport</td>\n",
       "      <td>3 Brewster Rd, Newark</td>\n",
       "      <td>3.2</td>\n",
       "      <td>EWR</td>\n",
       "    </tr>\n",
       "    <tr>\n",
       "      <th>1</th>\n",
       "      <td>1</td>\n",
       "      <td>Los Angeles</td>\n",
       "      <td>California</td>\n",
       "      <td>34.052234</td>\n",
       "      <td>-118.243685</td>\n",
       "      <td>Los Angeles International Airport</td>\n",
       "      <td>1 World Way, Los Angeles</td>\n",
       "      <td>3.5</td>\n",
       "      <td>LAX</td>\n",
       "    </tr>\n",
       "    <tr>\n",
       "      <th>2</th>\n",
       "      <td>2</td>\n",
       "      <td>Chicago</td>\n",
       "      <td>Illinois</td>\n",
       "      <td>41.878114</td>\n",
       "      <td>-87.629798</td>\n",
       "      <td>O'Hare International Airport</td>\n",
       "      <td>10000 W O'Hare Ave, Chicago</td>\n",
       "      <td>3.6</td>\n",
       "      <td>ORD</td>\n",
       "    </tr>\n",
       "    <tr>\n",
       "      <th>3</th>\n",
       "      <td>3</td>\n",
       "      <td>Houston</td>\n",
       "      <td>Texas</td>\n",
       "      <td>29.760427</td>\n",
       "      <td>-95.369803</td>\n",
       "      <td>William P. Hobby Airport</td>\n",
       "      <td>7800 Airport Blvd, Houston</td>\n",
       "      <td>4.0</td>\n",
       "      <td>HOU</td>\n",
       "    </tr>\n",
       "    <tr>\n",
       "      <th>4</th>\n",
       "      <td>4</td>\n",
       "      <td>Philadelphia</td>\n",
       "      <td>Pennsylvania</td>\n",
       "      <td>39.952584</td>\n",
       "      <td>-75.165222</td>\n",
       "      <td>Philadelphia International Airport</td>\n",
       "      <td>8000 Essington Ave, Philadelphia</td>\n",
       "      <td>3.3</td>\n",
       "      <td>PHL</td>\n",
       "    </tr>\n",
       "  </tbody>\n",
       "</table>\n",
       "</div>"
      ],
      "text/plain": [
       "   Unnamed: 0           City         State        Lat         Lng  \\\n",
       "0           0  New York City      New York  40.712775  -74.005973   \n",
       "1           1    Los Angeles    California  34.052234 -118.243685   \n",
       "2           2        Chicago      Illinois  41.878114  -87.629798   \n",
       "3           3        Houston         Texas  29.760427  -95.369803   \n",
       "4           4   Philadelphia  Pennsylvania  39.952584  -75.165222   \n",
       "\n",
       "                           Airport Name                   Airport Address  \\\n",
       "0  Newark Liberty International Airport             3 Brewster Rd, Newark   \n",
       "1     Los Angeles International Airport          1 World Way, Los Angeles   \n",
       "2          O'Hare International Airport       10000 W O'Hare Ave, Chicago   \n",
       "3              William P. Hobby Airport        7800 Airport Blvd, Houston   \n",
       "4    Philadelphia International Airport  8000 Essington Ave, Philadelphia   \n",
       "\n",
       "   Airport Rating Airport Code  \n",
       "0             3.2          EWR  \n",
       "1             3.5          LAX  \n",
       "2             3.6          ORD  \n",
       "3             4.0          HOU  \n",
       "4             3.3          PHL  "
      ]
     },
     "execution_count": 40,
     "metadata": {},
     "output_type": "execute_result"
    }
   ],
   "source": [
    "cities_pd = pd.read_csv(\"./Resources/Airport_Output.csv\")\n",
    "cities_pd.head()"
   ]
  },
  {
   "cell_type": "code",
   "execution_count": 100,
   "metadata": {},
   "outputs": [
    {
     "data": {
      "text/plain": [
       "'http://api.travelpayouts.com/v2/prices/latest?currency=usd&period_type=year&page=1&limit=30&show_to_affiliates=true&sorting=price&trip_class=0&token=50f9cff6e6b0ec7b5a5cfa5301700072'"
      ]
     },
     "execution_count": 100,
     "metadata": {},
     "output_type": "execute_result"
    }
   ],
   "source": [
    "# Save config information\n",
    "import requests\n",
    "\n",
    "url=\"http://api.travelpayouts.com/v2/prices/latest?currency=usd&period_type=year&page=1&limit=30&show_to_affiliates=true&sorting=price&trip_class=0&token=\" + x_access_token\n",
    "\n",
    "#headers = {'x-access-token': x_access_token}\n",
    "\n",
    "#response = requests.request(\"GET\", url, headers=headers, params=querystring)\n",
    "\n",
    "url"
   ]
  },
  {
   "cell_type": "code",
   "execution_count": 92,
   "metadata": {},
   "outputs": [
    {
     "ename": "NameError",
     "evalue": "name 'base_url' is not defined",
     "output_type": "error",
     "traceback": [
      "\u001b[1;31m---------------------------------------------------------------------------\u001b[0m",
      "\u001b[1;31mNameError\u001b[0m                                 Traceback (most recent call last)",
      "\u001b[1;32m<ipython-input-92-9035bfe52360>\u001b[0m in \u001b[0;36m<module>\u001b[1;34m\u001b[0m\n\u001b[1;32m----> 1\u001b[1;33m \u001b[0mbase_url\u001b[0m\u001b[1;33m\u001b[0m\u001b[1;33m\u001b[0m\u001b[0m\n\u001b[0m",
      "\u001b[1;31mNameError\u001b[0m: name 'base_url' is not defined"
     ]
    }
   ],
   "source": [
    "base_url"
   ]
  },
  {
   "cell_type": "code",
   "execution_count": 83,
   "metadata": {},
   "outputs": [
    {
     "data": {
      "text/plain": [
       "[{'value': 2473,\n",
       "  'trip_class': 0,\n",
       "  'show_to_affiliates': True,\n",
       "  'origin': 'LED',\n",
       "  'destination': 'HKT',\n",
       "  'gate': 'Tickets.ru',\n",
       "  'depart_date': '2021-04-01',\n",
       "  'return_date': '',\n",
       "  'number_of_changes': 1,\n",
       "  'found_at': '2021-03-08T09:52:27',\n",
       "  'duration': 965,\n",
       "  'distance': 8022,\n",
       "  'actual': True},\n",
       " {'value': 334,\n",
       "  'trip_class': 0,\n",
       "  'show_to_affiliates': True,\n",
       "  'origin': 'LED',\n",
       "  'destination': 'HKT',\n",
       "  'gate': 'Aviakassa',\n",
       "  'depart_date': '2021-04-01',\n",
       "  'return_date': '',\n",
       "  'number_of_changes': 2,\n",
       "  'found_at': '2021-03-08T09:52:27',\n",
       "  'duration': 2065,\n",
       "  'distance': 8022,\n",
       "  'actual': True},\n",
       " {'value': 2828,\n",
       "  'trip_class': 0,\n",
       "  'show_to_affiliates': True,\n",
       "  'origin': 'LED',\n",
       "  'destination': 'HKT',\n",
       "  'gate': 'Kiwi.com',\n",
       "  'depart_date': '2021-04-05',\n",
       "  'return_date': '',\n",
       "  'number_of_changes': 1,\n",
       "  'found_at': '2021-03-08T14:34:45',\n",
       "  'duration': 965,\n",
       "  'distance': 8022,\n",
       "  'actual': True},\n",
       " {'value': 371,\n",
       "  'trip_class': 0,\n",
       "  'show_to_affiliates': True,\n",
       "  'origin': 'LED',\n",
       "  'destination': 'HKT',\n",
       "  'gate': 'Aviakassa',\n",
       "  'depart_date': '2021-04-05',\n",
       "  'return_date': '',\n",
       "  'number_of_changes': 2,\n",
       "  'found_at': '2021-03-08T14:34:45',\n",
       "  'duration': 2350,\n",
       "  'distance': 8022,\n",
       "  'actual': True},\n",
       " {'value': 2480,\n",
       "  'trip_class': 0,\n",
       "  'show_to_affiliates': True,\n",
       "  'origin': 'LED',\n",
       "  'destination': 'HKT',\n",
       "  'gate': 'Tickets.ru',\n",
       "  'depart_date': '2021-04-08',\n",
       "  'return_date': '',\n",
       "  'number_of_changes': 1,\n",
       "  'found_at': '2021-03-08T18:35:39',\n",
       "  'duration': 965,\n",
       "  'distance': 8022,\n",
       "  'actual': True},\n",
       " {'value': 382,\n",
       "  'trip_class': 0,\n",
       "  'show_to_affiliates': True,\n",
       "  'origin': 'LED',\n",
       "  'destination': 'HKT',\n",
       "  'gate': 'Kiwi.com',\n",
       "  'depart_date': '2021-04-08',\n",
       "  'return_date': '',\n",
       "  'number_of_changes': 2,\n",
       "  'found_at': '2021-03-08T18:35:39',\n",
       "  'duration': 1415,\n",
       "  'distance': 8022,\n",
       "  'actual': True},\n",
       " {'value': 2486,\n",
       "  'trip_class': 0,\n",
       "  'show_to_affiliates': True,\n",
       "  'origin': 'LED',\n",
       "  'destination': 'HKT',\n",
       "  'gate': 'Tickets.ru',\n",
       "  'depart_date': '2021-04-09',\n",
       "  'return_date': '',\n",
       "  'number_of_changes': 1,\n",
       "  'found_at': '2021-03-05T18:56:46',\n",
       "  'duration': 2070,\n",
       "  'distance': 8022,\n",
       "  'actual': True},\n",
       " {'value': 381,\n",
       "  'trip_class': 0,\n",
       "  'show_to_affiliates': True,\n",
       "  'origin': 'LED',\n",
       "  'destination': 'HKT',\n",
       "  'gate': 'Aviakassa',\n",
       "  'depart_date': '2021-04-09',\n",
       "  'return_date': '',\n",
       "  'number_of_changes': 2,\n",
       "  'found_at': '2021-03-05T18:56:46',\n",
       "  'duration': 2385,\n",
       "  'distance': 8022,\n",
       "  'actual': True},\n",
       " {'value': 822,\n",
       "  'trip_class': 0,\n",
       "  'show_to_affiliates': True,\n",
       "  'origin': 'LED',\n",
       "  'destination': 'HKT',\n",
       "  'gate': 'Aviakassa',\n",
       "  'depart_date': '2021-04-10',\n",
       "  'return_date': '',\n",
       "  'number_of_changes': 1,\n",
       "  'found_at': '2021-03-03T20:21:27',\n",
       "  'duration': 1130,\n",
       "  'distance': 8022,\n",
       "  'actual': True},\n",
       " {'value': 377,\n",
       "  'trip_class': 0,\n",
       "  'show_to_affiliates': True,\n",
       "  'origin': 'LED',\n",
       "  'destination': 'HKT',\n",
       "  'gate': 'SuperKassa.ru',\n",
       "  'depart_date': '2021-04-10',\n",
       "  'return_date': '',\n",
       "  'number_of_changes': 2,\n",
       "  'found_at': '2021-03-03T20:21:27',\n",
       "  'duration': 1580,\n",
       "  'distance': 8022,\n",
       "  'actual': True},\n",
       " {'value': 2488,\n",
       "  'trip_class': 0,\n",
       "  'show_to_affiliates': True,\n",
       "  'origin': 'LED',\n",
       "  'destination': 'HKT',\n",
       "  'gate': 'Tickets.ru',\n",
       "  'depart_date': '2021-04-12',\n",
       "  'return_date': '',\n",
       "  'number_of_changes': 1,\n",
       "  'found_at': '2021-03-03T11:07:57',\n",
       "  'duration': 965,\n",
       "  'distance': 8022,\n",
       "  'actual': True},\n",
       " {'value': 390,\n",
       "  'trip_class': 0,\n",
       "  'show_to_affiliates': True,\n",
       "  'origin': 'LED',\n",
       "  'destination': 'HKT',\n",
       "  'gate': 'Aviakassa',\n",
       "  'depart_date': '2021-04-12',\n",
       "  'return_date': '',\n",
       "  'number_of_changes': 2,\n",
       "  'found_at': '2021-03-03T11:07:57',\n",
       "  'duration': 2505,\n",
       "  'distance': 8022,\n",
       "  'actual': True},\n",
       " {'value': 2481,\n",
       "  'trip_class': 0,\n",
       "  'show_to_affiliates': True,\n",
       "  'origin': 'LED',\n",
       "  'destination': 'HKT',\n",
       "  'gate': 'Tickets.ru',\n",
       "  'depart_date': '2021-04-15',\n",
       "  'return_date': '',\n",
       "  'number_of_changes': 1,\n",
       "  'found_at': '2021-03-07T08:34:25',\n",
       "  'duration': 965,\n",
       "  'distance': 8022,\n",
       "  'actual': True},\n",
       " {'value': 333,\n",
       "  'trip_class': 0,\n",
       "  'show_to_affiliates': True,\n",
       "  'origin': 'LED',\n",
       "  'destination': 'HKT',\n",
       "  'gate': 'Aviakassa',\n",
       "  'depart_date': '2021-04-15',\n",
       "  'return_date': '',\n",
       "  'number_of_changes': 2,\n",
       "  'found_at': '2021-03-07T08:34:25',\n",
       "  'duration': 1760,\n",
       "  'distance': 8022,\n",
       "  'actual': True},\n",
       " {'value': 2482,\n",
       "  'trip_class': 0,\n",
       "  'show_to_affiliates': True,\n",
       "  'origin': 'LED',\n",
       "  'destination': 'HKT',\n",
       "  'gate': 'Tickets.ru',\n",
       "  'depart_date': '2021-04-22',\n",
       "  'return_date': '',\n",
       "  'number_of_changes': 1,\n",
       "  'found_at': '2021-03-06T00:25:29',\n",
       "  'duration': 965,\n",
       "  'distance': 8022,\n",
       "  'actual': True},\n",
       " {'value': 337,\n",
       "  'trip_class': 0,\n",
       "  'show_to_affiliates': True,\n",
       "  'origin': 'LED',\n",
       "  'destination': 'HKT',\n",
       "  'gate': 'SuperKassa.ru',\n",
       "  'depart_date': '2021-04-22',\n",
       "  'return_date': '',\n",
       "  'number_of_changes': 2,\n",
       "  'found_at': '2021-03-06T00:25:29',\n",
       "  'duration': 1580,\n",
       "  'distance': 8022,\n",
       "  'actual': True},\n",
       " {'value': 409,\n",
       "  'trip_class': 0,\n",
       "  'show_to_affiliates': True,\n",
       "  'origin': 'LED',\n",
       "  'destination': 'HKT',\n",
       "  'gate': 'Kiwi.com',\n",
       "  'depart_date': '2021-04-30',\n",
       "  'return_date': '',\n",
       "  'number_of_changes': 1,\n",
       "  'found_at': '2021-03-06T00:25:55',\n",
       "  'duration': 2095,\n",
       "  'distance': 8022,\n",
       "  'actual': True},\n",
       " {'value': 370,\n",
       "  'trip_class': 0,\n",
       "  'show_to_affiliates': True,\n",
       "  'origin': 'LED',\n",
       "  'destination': 'HKT',\n",
       "  'gate': 'Aviakassa',\n",
       "  'depart_date': '2021-04-30',\n",
       "  'return_date': '',\n",
       "  'number_of_changes': 2,\n",
       "  'found_at': '2021-03-06T00:25:55',\n",
       "  'duration': 2225,\n",
       "  'distance': 8022,\n",
       "  'actual': True}]"
      ]
     },
     "execution_count": 83,
     "metadata": {},
     "output_type": "execute_result"
    }
   ],
   "source": [
    "response['data']"
   ]
  },
  {
   "cell_type": "code",
   "execution_count": null,
   "metadata": {},
   "outputs": [],
   "source": []
  },
  {
   "cell_type": "code",
   "execution_count": null,
   "metadata": {},
   "outputs": [],
   "source": []
  },
  {
   "cell_type": "code",
   "execution_count": 42,
   "metadata": {},
   "outputs": [],
   "source": [
    "start_date=[]\n",
    "origin=[]\n",
    "destination=[]\n",
    "start_num_transfers=[]\n",
    "start_airline=[]"
   ]
  },
  {
   "cell_type": "code",
   "execution_count": 43,
   "metadata": {},
   "outputs": [],
   "source": []
  },
  {
   "cell_type": "code",
   "execution_count": 44,
   "metadata": {},
   "outputs": [
    {
     "ename": "AttributeError",
     "evalue": "'Series' object has no attribute 'iterrows'",
     "output_type": "error",
     "traceback": [
      "\u001b[1;31m---------------------------------------------------------------------------\u001b[0m",
      "\u001b[1;31mAttributeError\u001b[0m                            Traceback (most recent call last)",
      "\u001b[1;32m<ipython-input-44-4707d95b2987>\u001b[0m in \u001b[0;36m<module>\u001b[1;34m\u001b[0m\n\u001b[0;32m      1\u001b[0m \u001b[1;31m# extract outbound flights\u001b[0m\u001b[1;33m\u001b[0m\u001b[1;33m\u001b[0m\u001b[1;33m\u001b[0m\u001b[0m\n\u001b[1;32m----> 2\u001b[1;33m \u001b[1;32mfor\u001b[0m \u001b[0mindex\u001b[0m\u001b[1;33m,\u001b[0m \u001b[0mrow\u001b[0m \u001b[1;32min\u001b[0m \u001b[0mcities_pd\u001b[0m\u001b[1;33m.\u001b[0m\u001b[0miterrows\u001b[0m\u001b[1;33m(\u001b[0m\u001b[1;33m)\u001b[0m\u001b[1;33m:\u001b[0m\u001b[1;33m\u001b[0m\u001b[1;33m\u001b[0m\u001b[0m\n\u001b[0m\u001b[0;32m      3\u001b[0m     \u001b[0mheaders\u001b[0m \u001b[1;33m=\u001b[0m \u001b[1;33m{\u001b[0m\u001b[1;34m'x-access-token'\u001b[0m\u001b[1;33m:\u001b[0m \u001b[0mx_access_token\u001b[0m\u001b[1;33m}\u001b[0m\u001b[1;33m\u001b[0m\u001b[1;33m\u001b[0m\u001b[0m\n\u001b[0;32m      4\u001b[0m     \u001b[0mairport_code\u001b[0m \u001b[1;33m=\u001b[0m \u001b[0mrow\u001b[0m\u001b[1;33m[\u001b[0m\u001b[1;34m'Airport Code'\u001b[0m\u001b[1;33m]\u001b[0m\u001b[1;33m\u001b[0m\u001b[1;33m\u001b[0m\u001b[0m\n\u001b[0;32m      5\u001b[0m     \u001b[0mprint\u001b[0m\u001b[1;33m(\u001b[0m\u001b[0mairport_code\u001b[0m\u001b[1;33m)\u001b[0m\u001b[1;33m\u001b[0m\u001b[1;33m\u001b[0m\u001b[0m\n",
      "\u001b[1;32m~\\anaconda3\\lib\\site-packages\\pandas\\core\\generic.py\u001b[0m in \u001b[0;36m__getattr__\u001b[1;34m(self, name)\u001b[0m\n\u001b[0;32m   5137\u001b[0m             \u001b[1;32mif\u001b[0m \u001b[0mself\u001b[0m\u001b[1;33m.\u001b[0m\u001b[0m_info_axis\u001b[0m\u001b[1;33m.\u001b[0m\u001b[0m_can_hold_identifiers_and_holds_name\u001b[0m\u001b[1;33m(\u001b[0m\u001b[0mname\u001b[0m\u001b[1;33m)\u001b[0m\u001b[1;33m:\u001b[0m\u001b[1;33m\u001b[0m\u001b[1;33m\u001b[0m\u001b[0m\n\u001b[0;32m   5138\u001b[0m                 \u001b[1;32mreturn\u001b[0m \u001b[0mself\u001b[0m\u001b[1;33m[\u001b[0m\u001b[0mname\u001b[0m\u001b[1;33m]\u001b[0m\u001b[1;33m\u001b[0m\u001b[1;33m\u001b[0m\u001b[0m\n\u001b[1;32m-> 5139\u001b[1;33m             \u001b[1;32mreturn\u001b[0m \u001b[0mobject\u001b[0m\u001b[1;33m.\u001b[0m\u001b[0m__getattribute__\u001b[0m\u001b[1;33m(\u001b[0m\u001b[0mself\u001b[0m\u001b[1;33m,\u001b[0m \u001b[0mname\u001b[0m\u001b[1;33m)\u001b[0m\u001b[1;33m\u001b[0m\u001b[1;33m\u001b[0m\u001b[0m\n\u001b[0m\u001b[0;32m   5140\u001b[0m \u001b[1;33m\u001b[0m\u001b[0m\n\u001b[0;32m   5141\u001b[0m     \u001b[1;32mdef\u001b[0m \u001b[0m__setattr__\u001b[0m\u001b[1;33m(\u001b[0m\u001b[0mself\u001b[0m\u001b[1;33m,\u001b[0m \u001b[0mname\u001b[0m\u001b[1;33m:\u001b[0m \u001b[0mstr\u001b[0m\u001b[1;33m,\u001b[0m \u001b[0mvalue\u001b[0m\u001b[1;33m)\u001b[0m \u001b[1;33m->\u001b[0m \u001b[1;32mNone\u001b[0m\u001b[1;33m:\u001b[0m\u001b[1;33m\u001b[0m\u001b[1;33m\u001b[0m\u001b[0m\n",
      "\u001b[1;31mAttributeError\u001b[0m: 'Series' object has no attribute 'iterrows'"
     ]
    }
   ],
   "source": [
    "# extract outbound flights\n",
    "for index, row in cities_pd.iterrows():\n",
    "    headers = {'x-access-token': x_access_token}\n",
    "    airport_code = row['Airport Code']\n",
    "    print(airport_code)\n",
    "    querystring = {\"depart_date\":\"2019-11\",\"origin\":\"BWI\",\"destination\":airport_code,\"calendar_type\":\"departure_date\",\"currency\":\"USD\"}\n",
    "    response = requests.request(\"GET\", url, headers=headers, params=querystring).json()\n",
    "    #for \n",
    "    #print(response['data']['2021-03-08']['origin'])\n",
    "    #print(response['data']['2021-03-08']['destination'])\n",
    "    #print(response['data']['2021-03-08']['transfers'])\n",
    "    #print(response['data']['2021-03-08']['airline'])\n",
    "    #print(response['data']['2021-03-08']['departure_at'])\n",
    "\n",
    "    "
   ]
  },
  {
   "cell_type": "code",
   "execution_count": 31,
   "metadata": {},
   "outputs": [
    {
     "data": {
      "text/plain": [
       "dict_keys(['success', 'data', 'error', 'currency'])"
      ]
     },
     "execution_count": 31,
     "metadata": {},
     "output_type": "execute_result"
    }
   ],
   "source": [
    "response.keys()"
   ]
  },
  {
   "cell_type": "code",
   "execution_count": null,
   "metadata": {},
   "outputs": [],
   "source": []
  },
  {
   "cell_type": "code",
   "execution_count": 22,
   "metadata": {},
   "outputs": [],
   "source": [
    "#response.keys()"
   ]
  },
  {
   "cell_type": "code",
   "execution_count": 28,
   "metadata": {},
   "outputs": [
    {
     "data": {
      "text/plain": [
       "{}"
      ]
     },
     "execution_count": 28,
     "metadata": {},
     "output_type": "execute_result"
    }
   ],
   "source": [
    "response['data']"
   ]
  },
  {
   "cell_type": "code",
   "execution_count": 16,
   "metadata": {},
   "outputs": [
    {
     "name": "stdout",
     "output_type": "stream",
     "text": [
      "MOW\n",
      "BCN\n",
      "3\n",
      "DP\n",
      "2021-03-08T20:55:00Z\n"
     ]
    }
   ],
   "source": [
    "print(response['data']['2021-03-08']['origin'])\n",
    "print(response['data']['2021-03-08']['destination'])\n",
    "print(response['data']['2021-03-08']['transfers'])\n",
    "print(response['data']['2021-03-08']['airline'])\n",
    "print(response['data']['2021-03-08']['departure_at'])\n"
   ]
  },
  {
   "cell_type": "code",
   "execution_count": null,
   "metadata": {},
   "outputs": [],
   "source": []
  }
 ],
 "metadata": {
  "kernelspec": {
   "display_name": "Python 3",
   "language": "python",
   "name": "python3"
  },
  "language_info": {
   "codemirror_mode": {
    "name": "ipython",
    "version": 3
   },
   "file_extension": ".py",
   "mimetype": "text/x-python",
   "name": "python",
   "nbconvert_exporter": "python",
   "pygments_lexer": "ipython3",
   "version": "3.8.5"
  },
  "varInspector": {
   "cols": {
    "lenName": 16,
    "lenType": 16,
    "lenVar": 40
   },
   "kernels_config": {
    "python": {
     "delete_cmd_postfix": "",
     "delete_cmd_prefix": "del ",
     "library": "var_list.py",
     "varRefreshCmd": "print(var_dic_list())"
    },
    "r": {
     "delete_cmd_postfix": ") ",
     "delete_cmd_prefix": "rm(",
     "library": "var_list.r",
     "varRefreshCmd": "cat(var_dic_list()) "
    }
   },
   "types_to_exclude": [
    "module",
    "function",
    "builtin_function_or_method",
    "instance",
    "_Feature"
   ],
   "window_display": false
  }
 },
 "nbformat": 4,
 "nbformat_minor": 2
}
