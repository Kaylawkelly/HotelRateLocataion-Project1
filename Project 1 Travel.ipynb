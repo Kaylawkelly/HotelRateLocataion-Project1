{
 "cells": [
  {
   "cell_type": "code",
   "execution_count": 11,
   "metadata": {},
   "outputs": [],
   "source": [
    "# Dependencies and Setup\n",
    "import matplotlib.pyplot as plt\n",
    "import pandas as pd\n",
    "import numpy as np\n",
    "import requests\n",
    "import time\n",
    "from scipy.stats import linregress\n",
    "\n",
    "# Import API key\n",
    "#from api_keys import p_key\n",
    "\n",
    "# Incorporated citipy to determine city based on latitude and longitude\n",
    "#from citipy import citipy\n",
    "\n",
    "# Output File (CSV)\n",
    "#output_data_file = \"output_data/cities.csv\"\n",
    "\n",
    "# Range of latitudes and longitudes\n",
    "#lat_range = (-90, 90)\n",
    "#lng_range = (-180, 180)"
   ]
  },
  {
   "cell_type": "markdown",
   "metadata": {},
   "source": [
    "### API Calls"
   ]
  },
  {
   "cell_type": "code",
   "execution_count": 12,
   "metadata": {},
   "outputs": [],
   "source": [
    "#Ryan API"
   ]
  },
  {
   "cell_type": "code",
   "execution_count": 13,
   "metadata": {},
   "outputs": [],
   "source": [
    "#Nicole API"
   ]
  },
  {
   "cell_type": "code",
   "execution_count": 14,
   "metadata": {},
   "outputs": [
    {
     "name": "stdout",
     "output_type": "stream",
     "text": [
      "{\"result\":\"OK\",\"data\":{\"body\":{\"header\":\"22 Anthony St, San Francisco, CA 94105, USA\",\"query\":{\"destination\":{\"id\":\"1493604\",\"value\":\"22 Anthony St, San Francisco, CA 94105, USA\",\"resolvedLocation\":\"GEO_LOCATION:22 Anthony St, San Francisco, CA 94105, USA|37.78880310058594|-122.40035247802734:GEOCODE:UNKNOWN\"}},\"searchResults\":{\"totalCount\":411,\"results\":[{\"id\":693927,\"name\":\"Hotel Ikon\",\"starRating\":2.5,\"urls\":{},\"address\":{\"streetAddress\":\"325 Sutter Street\",\"extendedAddress\":\"\",\"locality\":\"San Francisco\",\"postalCode\":\"94108\",\"region\":\"CA\",\"countryName\":\"United States\",\"countryCode\":\"us\",\"obfuscate\":false},\"welcomeRewards\":{\"collect\":true},\"guestReviews\":{\"unformattedRating\":3.3,\"rating\":\"3.3\",\"total\":187,\"scale\":5,\"badge\":\"good\",\"badgeText\":\"Good\"},\"landmarks\":[{\"label\":\"22 Anthony St, San Francisco, CA 94105, USA\",\"distance\":\"0.3 miles\"},{\"label\":\"San Francisco\",\"distance\":\"0.2 miles\"}],\"geoBullets\":[],\"ratePlan\":{\"price\":{\"current\":\"$65\",\"exactCurrent\":65.2,\"old\":\"$95\",\"info\":\"nightly price per room\",\"additionalInfo\":\"This is the average nightly price for your dates.\"},\"features\":{\"freeCancellation\":true,\"paymentPreference\":true,\"noCCRequired\":false},\"type\":\"Dual\"},\"neighbourhood\":\"Union Square\",\"deals\":{\"secretPrice\":{\"dealText\":\"Save more with Secret Prices\"},\"priceReasoning\":\"DRR-445\"},\"messaging\":{},\"badging\":{},\"pimmsAttributes\":\"DoubleStamps|D13|TESCO\",\"coordinate\":{\"lat\":37.78936,\"lon\":-122.40587},\"providerType\":\"LOCAL\",\"supplierHotelId\":18399835,\"isAlternative\":false,\"optimizedThumbUrls\":{\"srpDesktop\":\"https://thumbnails.trvl-media.com/qO_6R_LtgbwLBZTjA6nt_jVVrVo=/250x140/smart/filters:quality(60)/images.trvl-media.com/hotels/19000000/18400000/18399900/18399835/bb37bf7d_z.jpg\"}},{\"id\":114219,\"name\":\"The Park Central San Francisco – Hyatt affiliated hotel\",\"starRating\":4.0,\"urls\":{},\"address\":{\"streetAddress\":\"50 3rd St\",\"extendedAddress\":\"\",\"locality\":\"San Francisco\",\"postalCode\":\"94103\",\"region\":\"CA\",\"countryName\":\"United States\",\"countryCode\":\"us\",\"obfuscate\":false},\"welcomeRewards\":{\"collect\":true},\"guestReviews\":{\"unformattedRating\":4.1,\"rating\":\"4.1\",\"total\":1280,\"scale\":5,\"badge\":\"very-good\",\"badgeText\":\"Very Good\"},\"landmarks\":[{\"label\":\"22 Anthony St, San Francisco, CA 94105, USA\",\"distance\":\"0.2 miles\"},{\"label\":\"San Francisco\",\"distance\":\"0.3 miles\"}],\"geoBullets\":[],\"ratePlan\":{\"price\":{\"current\":\"$120\",\"exactCurrent\":119.7,\"old\":\"$133\",\"info\":\"nightly price per room\",\"additionalInfo\":\"This is the average nightly price for your dates.\"},\"features\":{\"freeCancellation\":true,\"paymentPreference\":true,\"noCCRequired\":false},\"type\":\"Dual\"},\"neighbourhood\":\"Union Square\",\"deals\":{\"specialDeal\":{\"dealText\":\"Mobile exclusive: save 10%\"},\"priceReasoning\":\"DRR-444\"},\"messaging\":{},\"badging\":{},\"pimmsAttributes\":\"DoubleStamps|MESOTESTUS|TESCO\",\"coordinate\":{\"lat\":37.786666,\"lon\":-122.402986},\"providerType\":\"LOCAL\",\"supplierHotelId\":491,\"isAlternative\":false,\"optimizedThumbUrls\":{\"srpDesktop\":\"https://thumbnails.trvl-media.com/_yA4sDKjWt926tA8Hp6LuyTH1JY=/250x140/smart/filters:quality(60)/images.trvl-media.com/hotels/1000000/10000/500/491/f25f5067_z.jpg\"}},{\"id\":195439,\"name\":\"The Clancy, Autograph Collection\",\"starRating\":4.0,\"urls\":{},\"address\":{\"streetAddress\":\"299 2nd St\",\"extendedAddress\":\"\",\"locality\":\"San Francisco\",\"postalCode\":\"94105\",\"region\":\"CA\",\"countryName\":\"United States\",\"countryCode\":\"us\",\"obfuscate\":false},\"welcomeRewards\":{\"collect\":true},\"guestReviews\":{\"unformattedRating\":4.4,\"rating\":\"4.4\",\"total\":83,\"scale\":5,\"badge\":\"fabulous\",\"badgeText\":\"Fabulous\"},\"landmarks\":[{\"label\":\"22 Anthony St, San Francisco, CA 94105, USA\",\"distance\":\"0.3 miles\"},{\"label\":\"San Francisco\",\"distance\":\"0.6 miles\"}],\"geoBullets\":[],\"ratePlan\":{\"price\":{\"current\":\"$141\",\"exactCurrent\":141.0,\"info\":\"nightly price per room\",\"additionalInfo\":\"This is the average nightly price for your dates.\"},\"features\":{\"freeCancellation\":true,\"paymentPreference\":true,\"noCCRequired\":false},\"type\":\"Dual\"},\"neighbourhood\":\"South Beach\",\"deals\":{},\"messaging\":{},\"badging\":{},\"pimmsAttributes\":\"DoubleStamps|TESCO\",\"coordinate\":{\"lat\":37.785816,\"lon\":-122.396965},\"providerType\":\"LOCAL\",\"supplierHotelId\":693658,\"isAlternative\":false,\"optimizedThumbUrls\":{\"srpDesktop\":\"https://thumbnails.trvl-media.com/M_VUFzLxJV22y6_9ke4MaURLJGY=/250x140/smart/filters:quality(60)/images.trvl-media.com/hotels/1000000/700000/693700/693658/76bfcc5f_z.jpg\"}},{\"id\":115718,\"name\":\"Hotel Triton\",\"starRating\":4.0,\"urls\":{},\"address\":{\"streetAddress\":\"342 Grant Ave\",\"extendedAddress\":\"\",\"locality\":\"San Francisco\",\"postalCode\":\"94108\",\"region\":\"CA\",\"countryName\":\"United States\",\"countryCode\":\"us\",\"obfuscate\":false},\"welcomeRewards\":{\"collect\":true},\"guestReviews\":{\"unformattedRating\":4.0,\"rating\":\"4.0\",\"total\":667,\"scale\":5,\"badge\":\"very-good\",\"badgeText\":\"Very Good\"},\"landmarks\":[{\"label\":\"22 Anthony St, San Francisco, CA 94105, USA\",\"distance\":\"0.3 miles\"},{\"label\":\"San Francisco\",\"distance\":\"0.3 miles\"}],\"geoBullets\":[],\"ratePlan\":{\"price\":{\"current\":\"$106\",\"exactCurrent\":106.05,\"old\":\"$152\",\"info\":\"nightly price per room\",\"additionalInfo\":\"This is the average nightly price for your dates.\"},\"features\":{\"freeCancellation\":true,\"paymentPreference\":true,\"noCCRequired\":false},\"type\":\"Dual\"},\"neighbourhood\":\"Union Square\",\"deals\":{\"secretPrice\":{\"dealText\":\"Save more with Secret Prices\"},\"priceReasoning\":\"DRR-445\"},\"messaging\":{},\"badging\":{\"hotelBadge\":{\"type\":\"vipBasic\",\"label\":\"VIP\"}},\"pimmsAttributes\":\"DoubleStamps|D13|TESCO\",\"coordinate\":{\"lat\":37.790339,\"lon\":-122.405492},\"providerType\":\"LOCAL\",\"supplierHotelId\":1110,\"isAlternative\":false,\"optimizedThumbUrls\":{\"srpDesktop\":\"https://thumbnails.trvl-media.com/RkpAYQxfUbA5Ka1k9VVAWBS01o4=/250x140/smart/filters:quality(60)/images.trvl-media.com/hotels/1000000/10000/1200/1110/0fdb0ab1_z.jpg\"}},{\"id\":230158,\"name\":\"Cornell Hotel de France\",\"starRating\":3.5,\"urls\":{},\"address\":{\"streetAddress\":\"715 Bush St\",\"extendedAddress\":\"\",\"locality\":\"San Francisco\",\"postalCode\":\"94108\",\"region\":\"CA\",\"countryName\":\"United States\",\"countryCode\":\"us\",\"obfuscate\":false},\"welcomeRewards\":{\"collect\":true},\"guestReviews\":{\"unformattedRating\":4.4,\"rating\":\"4.4\",\"total\":672,\"scale\":5,\"badge\":\"fabulous\",\"badgeText\":\"Fabulous\"},\"landmarks\":[{\"label\":\"22 Anthony St, San Francisco, CA 94105, USA\",\"distance\":\"0.5 miles\"},{\"label\":\"San Francisco\",\"distance\":\"0.2 miles\"}],\"geoBullets\":[],\"ratePlan\":{\"price\":{\"current\":\"$118\",\"exactCurrent\":118.47,\"old\":\"$155\",\"info\":\"nightly price per room\",\"additionalInfo\":\"This is the average nightly price for your dates.\"},\"features\":{\"freeCancellation\":true,\"paymentPreference\":true,\"noCCRequired\":false},\"type\":\"Dual\"},\"neighbourhood\":\"Lower Nob Hill\",\"deals\":{\"secretPrice\":{\"dealText\":\"Save more with Secret Prices\"},\"priceReasoning\":\"DRR-443\"},\"messaging\":{},\"badging\":{\"hotelBadge\":{\"type\":\"vipBasic\",\"label\":\"VIP\"}},\"pimmsAttributes\":\"DoubleStamps|MESOTESTUS|D13|TESCO\",\"coordinate\":{\"lat\":37.790145,\"lon\":-122.409146},\"providerType\":\"LOCAL\",\"supplierHotelId\":1222727,\"isAlternative\":false,\"optimizedThumbUrls\":{\"srpDesktop\":\"https://thumbnails.trvl-media.com/nyVIdaGXGAxMhfCwmsMoWc2JWho=/250x140/smart/filters:quality(60)/images.trvl-media.com/hotels/2000000/1230000/1222800/1222727/908e6890_z.jpg\"}},{\"id\":802901920,\"name\":\"Hayes Valley Inn\",\"starRating\":3.0,\"urls\":{},\"address\":{\"streetAddress\":\"417 Gough Street\",\"extendedAddress\":\"\",\"locality\":\"San Francisco\",\"postalCode\":\"94102\",\"region\":\"CA\",\"countryName\":\"United States\",\"countryCode\":\"us\",\"obfuscate\":false},\"welcomeRewards\":{\"collect\":true},\"guestReviews\":{\"unformattedRating\":3.7,\"rating\":\"3.7\",\"total\":91,\"scale\":5,\"badge\":\"good\",\"badgeText\":\"Good\"},\"landmarks\":[{\"label\":\"22 Anthony St, San Francisco, CA 94105, USA\",\"distance\":\"1.5 miles\"},{\"label\":\"San Francisco\",\"distance\":\"1.1 miles\"}],\"geoBullets\":[],\"ratePlan\":{\"price\":{\"current\":\"$102\",\"exactCurrent\":102.13,\"info\":\"nightly price per room\",\"additionalInfo\":\"This is the average nightly price for your dates.\"},\"features\":{\"freeCancellation\":false,\"paymentPreference\":true,\"noCCRequired\":false},\"type\":\"Dual\"},\"neighbourhood\":\"Hayes Valley\",\"deals\":{},\"messaging\":{},\"badging\":{},\"pimmsAttributes\":\"newhotel|DoubleStamps|D13|TESCO\",\"coordinate\":{\"lat\":37.777093,\"lon\":-122.423183},\"providerType\":\"LOCAL\",\"supplierHotelId\":25059435,\"isAlternative\":false,\"optimizedThumbUrls\":{\"srpDesktop\":\"https://thumbnails.trvl-media.com/LOoq_IbAwgvWWgFIOffGgqYm4Uw=/250x140/smart/filters:quality(60)/images.trvl-media.com/hotels/26000000/25060000/25059500/25059435/97f7acea_z.jpg\"}},{\"id\":122674,\"name\":\"The Cartwright Hotel - Union Square BW Premier Collection\",\"starRating\":3.5,\"urls\":{},\"address\":{\"streetAddress\":\"524 Sutter Street\",\"extendedAddress\":\"\",\"locality\":\"San Francisco\",\"postalCode\":\"94102\",\"region\":\"CA\",\"countryName\":\"United States\",\"countryCode\":\"us\",\"obfuscate\":false},\"welcomeRewards\":{\"collect\":true},\"guestReviews\":{\"unformattedRating\":4.1,\"rating\":\"4.1\",\"total\":950,\"scale\":5,\"badge\":\"very-good\",\"badgeText\":\"Very Good\"},\"landmarks\":[{\"label\":\"22 Anthony St, San Francisco, CA 94105, USA\",\"distance\":\"0.5 miles\"},{\"label\":\"San Francisco\",\"distance\":\"0.1 miles\"}],\"geoBullets\":[],\"ratePlan\":{\"price\":{\"current\":\"$89\",\"exactCurrent\":88.5,\"old\":\"$118\",\"info\":\"nightly price per room\",\"additionalInfo\":\"This is the average nightly price for your dates.\"},\"features\":{\"freeCancellation\":true,\"paymentPreference\":true,\"noCCRequired\":false},\"type\":\"Dual\"},\"neighbourhood\":\"Lower Nob Hill\",\"deals\":{\"secretPrice\":{\"dealText\":\"Save more with Secret Prices\"},\"priceReasoning\":\"DRR-443\"},\"messaging\":{},\"badging\":{},\"pimmsAttributes\":\"DoubleStamps|priceRangeUS|priceRangeCA|D13|TESCO\",\"coordinate\":{\"lat\":37.789298,\"lon\":-122.409166},\"providerType\":\"LOCAL\",\"supplierHotelId\":26015,\"isAlternative\":false,\"optimizedThumbUrls\":{\"srpDesktop\":\"https://thumbnails.trvl-media.com/zToczpBa3WqgIxSkzQKtYpDJ--E=/250x140/smart/filters:quality(60)/images.trvl-media.com/hotels/1000000/30000/26100/26015/9dd02f8d_z.jpg\"}},{\"id\":210688,\"name\":\"Club Quarters Hotel in San Francisco\",\"starRating\":4.0,\"urls\":{},\"address\":{\"streetAddress\":\"424 Clay St\",\"extendedAddress\":\"\",\"locality\":\"San Francisco\",\"postalCode\":\"94111\",\"region\":\"CA\",\"countryName\":\"United States\",\"countryCode\":\"us\",\"obfuscate\":false},\"welcomeRewards\":{\"collect\":true},\"guestReviews\":{\"unformattedRating\":4.2,\"rating\":\"4.2\",\"total\":1476,\"scale\":5,\"badge\":\"very-good\",\"badgeText\":\"Very Good\"},\"landmarks\":[{\"label\":\"22 Anthony St, San Francisco, CA 94105, USA\",\"distance\":\"0.4 miles\"},{\"label\":\"San Francisco\",\"distance\":\"0.7 miles\"}],\"geoBullets\":[],\"ratePlan\":{\"price\":{\"current\":\"$97\",\"exactCurrent\":97.01,\"old\":\"$109\",\"info\":\"nightly price per room\",\"additionalInfo\":\"This is the average nightly price for your dates.\"},\"features\":{\"freeCancellation\":true,\"paymentPreference\":true,\"noCCRequired\":false},\"type\":\"Dual\"},\"neighbourhood\":\"Financial District\",\"deals\":{\"secretPrice\":{\"dealText\":\"Save more with Secret Prices\"},\"priceReasoning\":\"DRR-445\"},\"messaging\":{},\"badging\":{},\"pimmsAttributes\":\"DoubleStamps|MESOTESTUS|D13|TESCO\",\"coordinate\":{\"lat\":37.794972,\"lon\":-122.400809},\"providerType\":\"LOCAL\",\"supplierHotelId\":912982,\"isAlternative\":false,\"optimizedThumbUrls\":{\"srpDesktop\":\"https://thumbnails.trvl-media.com/nSfkUS3GovtikRWv6J5BAu7GYUc=/250x140/smart/filters:quality(60)/images.trvl-media.com/hotels/1000000/920000/913000/912982/832c79fe_z.jpg\"}}],\"pagination\":{\"currentPage\":1,\"pageGroup\":\"EXPEDIA_IN_POLYGON\",\"nextPageStartIndex\":8,\"nextPageNumber\":2,\"nextPageGroup\":\"EXPEDIA_IN_POLYGON\"}},\"sortResults\":{\"options\":[{\"label\":\"Featured\",\"itemMeta\":\"popular\",\"choices\":[{\"label\":\"Featured\",\"value\":\"BEST_SELLER\",\"selected\":false}],\"enhancedChoices\":[]},{\"label\":\"Star rating\",\"itemMeta\":\"star\",\"choices\":[{\"label\":\"Stars (high to low)\",\"value\":\"STAR_RATING_HIGHEST_FIRST\",\"selected\":false},{\"label\":\"Stars (low to high)\",\"value\":\"STAR_RATING_LOWEST_FIRST\",\"selected\":false}],\"enhancedChoices\":[]},{\"label\":\"Distance\",\"itemMeta\":\"distance\",\"selectedChoiceLabel\":\"Distance\",\"choices\":[{\"label\":\"Distance\",\"value\":\"DISTANCE_FROM_LANDMARK\",\"selected\":true}],\"enhancedChoices\":[{\"label\":\"Landmarks\",\"itemMeta\":\"landmarks\",\"choices\":[{\"label\":\"Alameda\",\"id\":1490117.0},{\"label\":\"Albany\",\"id\":1421819.0},{\"label\":\"Alcatraz Island\",\"id\":1596.0},{\"label\":\"Berkeley\",\"id\":1636697.0},{\"label\":\"Bill Graham Civic Auditorium\",\"id\":1707433.0},{\"label\":\"Brisbane\",\"id\":1529187.0},{\"label\":\"Colma\",\"id\":1.1047185E7},{\"label\":\"Daly City\",\"id\":1445779.0},{\"label\":\"Emeryville\",\"id\":1485086.0},{\"label\":\"Golden Gate Bridge\",\"id\":1001.0},{\"label\":\"Marin City\",\"id\":1.1047122E7},{\"label\":\"Moscone Convention Center\",\"id\":1407964.0},{\"label\":\"Oakland\",\"id\":1538105.0},{\"label\":\"Oracle Park\",\"id\":583.0},{\"label\":\"Pier 39\",\"id\":1652926.0},{\"label\":\"San Francisco\",\"id\":1493604.0},{\"label\":\"Sausalito\",\"id\":1525555.0},{\"label\":\"South San Francisco\",\"id\":1490656.0},{\"label\":\"Tiburon\",\"id\":1513223.0},{\"label\":\"UCSF Medical Center\",\"id\":1.1129819E7}]},{\"label\":\"Stations\",\"itemMeta\":\"stations\",\"choices\":[{\"label\":\"16th Street Mission Station\",\"id\":1726781.0},{\"label\":\"24th Street Mission Station\",\"id\":1726783.0},{\"label\":\"Balboa Park Station\",\"id\":1726787.0},{\"label\":\"Daly City Station\",\"id\":1726789.0},{\"label\":\"Embarcadero Station\",\"id\":1726771.0},{\"label\":\"Emeryville Station\",\"id\":1734874.0},{\"label\":\"Fruitvale Station\",\"id\":1758996.0},{\"label\":\"Glen Park Station\",\"id\":1726784.0},{\"label\":\"Hyde St & Beach St Stop\",\"id\":1725592.0},{\"label\":\"MacArthur Station\",\"id\":1758999.0},{\"label\":\"Montgomery St. Station\",\"id\":1726772.0},{\"label\":\"North Berkeley Station\",\"id\":1759013.0},{\"label\":\"Oakland-Jack London Square Station\",\"id\":1734390.0},{\"label\":\"Powell St & Market St Stop\",\"id\":1725570.0},{\"label\":\"Powell St. Station\",\"id\":1726773.0},{\"label\":\"San Francisco Station\",\"id\":1725529.0},{\"label\":\"South San Francisco Metro Station\",\"id\":1726792.0},{\"label\":\"South San Francisco Station\",\"id\":1724054.0},{\"label\":\"Taylor St & Bay St Stop\",\"id\":1.0903812E7},{\"label\":\"West Oakland Station\",\"id\":1759004.0}]}]},{\"label\":\"Guest rating\",\"itemMeta\":\"rating\",\"choices\":[{\"label\":\"Guest rating\",\"value\":\"GUEST_RATING\",\"selected\":false}],\"enhancedChoices\":[]},{\"label\":\"Price\",\"itemMeta\":\"price\",\"choices\":[{\"label\":\"Price (high to low)\",\"value\":\"PRICE_HIGHEST_FIRST\",\"selected\":false},{\"label\":\"Price (low to high)\",\"value\":\"PRICE\",\"selected\":false}],\"enhancedChoices\":[]}]},\"pointOfSale\":{\"currency\":{\"code\":\"USD\",\"symbol\":\"$\",\"separators\":\",.\",\"format\":\"${0}\"}},\"miscellaneous\":{\"pageViewBeaconUrl\":\"https://www.egadvertising.com/travelAds/v1/TravelAdPageView?deviceType=App-Phone&sort-order=DISTANCE_FROM_LANDMARK&rooms=1&hotelIds=693927,114219,195439,115718,230158,802901920,122674,210688&adults=2&userAgent=Hotels.com/Android%2056.1.1.9.release-56_1%20(56010472)&userGuid=7907534a-f458-4f4d-94f7-9057ed3e62ba&pageName=Hotel-Search&slots=HSR_A,HSR_B,HSR_C,HSR_D,HSR_E&checkIn=2021-03-15&children=0&culture=en_US&testVersionOverride=4961.0,904.0,7561.0,7215.0,8218.0,8711.0,8928.0,9008.0,8347.2,9004.0,8952.0,7992.2,8915.0,9729.0,9716.0,9864.0,9945.0,10155.0,9884.0&domain=www.hotels.com&tac=true&userIP=107.23.255.129&action=pageview&publisher=expedia&checkOut=2021-03-19&programId=1\",\"showLegalInfoForStrikethroughPrices\":true,\"legalInfoForStrikethroughPrices\":\"The struck-out price is based on the property’s standard rate on our app, as determined and supplied by the property.\"},\"pageInfo\":{\"pageType\":\"dateful\"}},\"common\":{\"pointOfSale\":{\"numberSeparators\":\",.\",\"brandName\":\"Hotels.com\"},\"tracking\":{\"omniture\":{\"s.prop33\":\"D=v33\",\"s.prop32\":\"D=v43\",\"s.products\":\"MULTISOURCE;18399835,LOCAL;491,LOCAL;693658\",\"s.eVar41\":\"USD\",\"s.eVar63\":\"1c4ae83e-9c03-4e2b-afd0-8593763ccb14\",\"s.eVar42\":\"10|4|20210315|20210319\",\"s.eVar4\":\"|SI:anonymous|VS:returnVisitor|HCR:notApplicable|FC:notApplicable|NS:unknown|TI:notApplicable|SM:notApplicable|IR:anonymous|\",\"s.eVar43\":\"en_US|HCOM_US|www.hotels.com\",\"s.eVar3\":\"2|0\",\"s.eVar22\":\"1|USD|24:693927:94.5000:65.2000:0|24:114219:133.0000:119.7000:1|24:195439:141.0025:141.0025:0|24:115718:151.5000:106.0500:0|24:230158:155.0000:118.4700:0\",\"s.eVar2\":\"22 Anthony St, San Francisco, CA 94105, USA\",\"s.eVar23\":\"1|USD|24:802901920:102.1250:102.1250:0|24:122674:118.0000:88.5000:0|24:210688:109.0000:97.0100:0\",\"s.eVar24\":\"MCTC=20;TU=NA;PDID=NULL;MVT=\",\"s.eVar7\":\"10\",\"s.server\":\"www.hotels.com\",\"s.eVar6\":\"geo|22 Anthony St, San Francisco, CA 94105, USA|37.789|-122.4\",\"s.prop29\":\"D=v42\",\"s.eVar5\":\"1\",\"s.prop27\":\"7907534a-f458-4f4d-94f7-9057ed3e62ba\",\"s.eVar9\":\"Distance from address\",\"s.prop21\":\"0\",\"s.prop20\":\"2\",\"s.currencyCode\":\"USD\",\"s.eVar26\":\"US:MD:ELLICOTTCITY:512\",\"s.prop9\":\"411\",\"s.eVar95\":\"Unknown\",\"s.prop7\":\"411\",\"s.eVar33\":\"search result with dates\",\"s.eVar34\":\"H1871:007.002,M376:152.000,M555:005.003,M904:000.000,M1167:000.000,M1291:000.000,M1292:000.000,M1293:000.000,M1294:000.000,M3736:000.000,M4200:000.000,M4440.0,M4869:001.000,M4952:036.001,M4961:001.000,M5167.0,M5342:000.000,M5663:000.000,M6388:000.000,M6775:000.000,M6779:000.000,M7015.0,M7192:000.000,M7214:000.000,M7215:000.000,M7296:000.000,M7305:000.000,M7353:000.000,M7362.0,M7384:000.000,M7552:023.001,M7561:000.000,M7763:000.000,M7765.1,M7870:000.000,M7895:000.000,M8130:000.001,M8336:000.000,M8347:019.002,M8483:000.000,M8485:007.001,M8698:000.000,M8708:000.000,M8714:000.000,M8718:000.000,M8758:000.000,M8915:000.000,M8928:000.000,M8952:000.000,M8976:000.000,M8992:000.000,M9004:000.000,M9035:000.000,M9065:000.000,M9100:000.000,M9220:000.000,M9281:000.000,M9282:000.000,M9297:000.000,M9351:000.000,M9420:000.000,M9424:002.002,M9427:000.000,M9431:000.000,M9434:000.000,M9469:000.000,M9549:000.000,M9567.0,M9606:013.002,M9693:000.000,M9699:000.000,M9716:000.000,M9729:000.000,M9752:000.000,M9771:000.000,M9853:000.000,M9857:000.000,M9864:000.000,M9917:000.000,M9924:000.000,M9945:000.000,M9961:000.000,M9971:000.000,M10001:000.000,M10007:000.000,M10010:000.000,M10013:002.001,M10068:000.000,M10121:000.000,M10125:000.000,M10137:001.000,M10148:000.000,M10155:000.000,M10248:000.000,M9215:001.001\",\"s.eVar13\":\"389367\",\"s.prop19\":\"1\",\"s.events\":\"event320\",\"s.prop18\":\"D=v6\",\"s.prop5\":\"389367\",\"s.prop15\":\"4\",\"s.prop3\":\"22 Anthony St, San Francisco, CA 94105, USA\",\"s.prop14\":\"D=v7\",\"s.prop36\":\"|SI:anonymous|VS:returnVisitor|HCR:notApplicable|FC:notApplicable|NS:unknown|TI:notApplicable|SM:notApplicable|IR:anonymous|\",\"s.eVar93\":\"aws.us-east-1.unknown\",\"s.prop2\":\"Distance from address\"}}}}}\n"
     ]
    }
   ],
   "source": [
    "#Kayla API\n",
    "import requests\n",
    "\n",
    "url = \"https://hotels-com-free.p.rapidapi.com/srle/listing/v1/brands/hotels.com\"\n",
    "\n",
    "querystring = {\"lat\":\"37.788719679657554\",\"lon\":\"-122.40057774847898\",\"checkIn\":\"2021-03-15\",\"checkOut\":\"2021-03-19\",\"rooms\":\"2\",\"locale\":\"en_US\",\"currency\":\"USD\",\"pageNumber\":\"1\"}\n",
    "\n",
    "headers = {\n",
    "    'x-rapidapi-key': \"7d7c570015msh06f88cde872d5e5p15c904jsn38364700fb06\",\n",
    "    'x-rapidapi-host': \"hotels-com-free.p.rapidapi.com\"\n",
    "    }\n",
    "\n",
    "response = requests.request(\"GET\", url, headers=headers, params=querystring)\n",
    "\n",
    "print(response.text)"
   ]
  },
  {
   "cell_type": "code",
   "execution_count": null,
   "metadata": {},
   "outputs": [],
   "source": []
  },
  {
   "cell_type": "code",
   "execution_count": null,
   "metadata": {},
   "outputs": [],
   "source": []
  }
 ],
 "metadata": {
  "kernelspec": {
   "display_name": "Python 3",
   "language": "python",
   "name": "python3"
  },
  "language_info": {
   "codemirror_mode": {
    "name": "ipython",
    "version": 3
   },
   "file_extension": ".py",
   "mimetype": "text/x-python",
   "name": "python",
   "nbconvert_exporter": "python",
   "pygments_lexer": "ipython3",
   "version": "3.8.5"
  }
 },
 "nbformat": 4,
 "nbformat_minor": 4
}
