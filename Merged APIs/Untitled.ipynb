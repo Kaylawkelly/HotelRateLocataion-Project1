{
 "cells": [
  {
   "cell_type": "code",
   "execution_count": 3,
   "metadata": {},
   "outputs": [
    {
     "name": "stdout",
     "output_type": "stream",
     "text": [
      "{\n",
      "  \"Quotes\" : [ {\n",
      "    \"QuoteId\" : 1,\n",
      "    \"MinPrice\" : 146,\n",
      "    \"Direct\" : false,\n",
      "    \"OutboundLeg\" : {\n",
      "      \"CarrierIds\" : [ 1065 ],\n",
      "      \"OriginId\" : 81727,\n",
      "      \"DestinationId\" : 60987,\n",
      "      \"DepartureDate\" : \"2021-03-15T00:00:00\"\n",
      "    },\n",
      "    \"QuoteDateTime\" : \"2021-03-09T05:59:00\"\n",
      "  }, {\n",
      "    \"QuoteId\" : 2,\n",
      "    \"MinPrice\" : 183,\n",
      "    \"Direct\" : true,\n",
      "    \"OutboundLeg\" : {\n",
      "      \"CarrierIds\" : [ 870 ],\n",
      "      \"OriginId\" : 81727,\n",
      "      \"DestinationId\" : 60987,\n",
      "      \"DepartureDate\" : \"2021-03-15T00:00:00\"\n",
      "    },\n",
      "    \"QuoteDateTime\" : \"2021-03-10T00:37:00\"\n",
      "  } ],\n",
      "  \"Carriers\" : [ {\n",
      "    \"CarrierId\" : 1065,\n",
      "    \"Name\" : \"Frontier Airlines\"\n",
      "  }, {\n",
      "    \"CarrierId\" : 870,\n",
      "    \"Name\" : \"jetBlue\"\n",
      "  } ],\n",
      "  \"Places\" : [ {\n",
      "    \"Name\" : \"New York John F. Kennedy\",\n",
      "    \"Type\" : \"Station\",\n",
      "    \"PlaceId\" : 60987,\n",
      "    \"IataCode\" : \"JFK\",\n",
      "    \"SkyscannerCode\" : \"JFK\",\n",
      "    \"CityName\" : \"New York\",\n",
      "    \"CityId\" : \"NYCA\",\n",
      "    \"CountryName\" : \"United States\"\n",
      "  }, {\n",
      "    \"Name\" : \"San Francisco International\",\n",
      "    \"Type\" : \"Station\",\n",
      "    \"PlaceId\" : 81727,\n",
      "    \"IataCode\" : \"SFO\",\n",
      "    \"SkyscannerCode\" : \"SFO\",\n",
      "    \"CityName\" : \"San Francisco\",\n",
      "    \"CityId\" : \"SFOA\",\n",
      "    \"CountryName\" : \"United States\"\n",
      "  } ],\n",
      "  \"Currencies\" : [ {\n",
      "    \"Code\" : \"USD\",\n",
      "    \"Symbol\" : \"$\",\n",
      "    \"ThousandsSeparator\" : \",\",\n",
      "    \"DecimalSeparator\" : \".\",\n",
      "    \"SymbolOnLeft\" : true,\n",
      "    \"SpaceBetweenAmountAndSymbol\" : false,\n",
      "    \"RoundingCoefficient\" : 0,\n",
      "    \"DecimalDigits\" : 2\n",
      "  } ]\n",
      "}\n"
     ]
    }
   ],
   "source": [
    "import requests\n",
    "\n",
    "url = \"https://skyscanner-skyscanner-flight-search-v1.p.rapidapi.com/apiservices/browsequotes/v1.0/US/USD/en-US/SFO-sky/JFK-sky/2021-03-15\"\n",
    "\n",
    "querystring = {\"inboundpartialdate\":\"2021-03-19\"}\n",
    "\n",
    "headers = {\n",
    "    'x-rapidapi-key': \"7d7c570015msh06f88cde872d5e5p15c904jsn38364700fb06\",\n",
    "    'x-rapidapi-host': \"skyscanner-skyscanner-flight-search-v1.p.rapidapi.com\"\n",
    "    }\n",
    "\n",
    "response = requests.request(\"GET\", url, headers=headers, params=querystring)\n",
    "\n",
    "print(response.text)"
   ]
  },
  {
   "cell_type": "code",
   "execution_count": null,
   "metadata": {},
   "outputs": [],
   "source": []
  }
 ],
 "metadata": {
  "kernelspec": {
   "display_name": "Python 3",
   "language": "python",
   "name": "python3"
  },
  "language_info": {
   "codemirror_mode": {
    "name": "ipython",
    "version": 3
   },
   "file_extension": ".py",
   "mimetype": "text/x-python",
   "name": "python",
   "nbconvert_exporter": "python",
   "pygments_lexer": "ipython3",
   "version": "3.7.9"
  }
 },
 "nbformat": 4,
 "nbformat_minor": 4
}
